{
  "nbformat": 4,
  "nbformat_minor": 0,
  "metadata": {
    "colab": {
      "provenance": [],
      "collapsed_sections": [],
      "authorship_tag": "ABX9TyM+ThqHlLFUjkhCwMrmBzf7",
      "include_colab_link": true
    },
    "kernelspec": {
      "name": "python3",
      "display_name": "Python 3"
    },
    "language_info": {
      "name": "python"
    }
  },
  "cells": [
    {
      "cell_type": "markdown",
      "metadata": {
        "id": "view-in-github",
        "colab_type": "text"
      },
      "source": [
        "<a href=\"https://colab.research.google.com/github/nikhil056/P745/blob/main/Assignment3_1.ipynb\" target=\"_parent\"><img src=\"https://colab.research.google.com/assets/colab-badge.svg\" alt=\"Open In Colab\"/></a>"
      ]
    },
    {
      "cell_type": "code",
      "source": [
        "a = []\n",
        "\n",
        "f = open(\"Assign3_1.txt\", \"r\")\n",
        "for line in f.readlines():\n",
        "  if line[0] == \"#\":\n",
        "    continue\n",
        "  elements = line.split(\",\")\n",
        "  elements = [float(x) for x in elements]\n",
        "  a.append(elements)\n",
        "\n",
        "f.close()\n",
        "print(a)"
      ],
      "metadata": {
        "colab": {
          "base_uri": "https://localhost:8080/"
        },
        "id": "XukpX2RtEMUl",
        "outputId": "89715e15-deff-416f-b37a-7fd3081658a6"
      },
      "execution_count": 6,
      "outputs": [
        {
          "output_type": "stream",
          "name": "stdout",
          "text": [
            "[[1.0, -1.0, 4.0, 0.0, 2.0, 9.0, 19.0], [0.0, 5.0, -2.0, 7.0, 8.0, 4.0, 2.0], [1.0, 0.0, 5.0, 7.0, 3.0, -2.0, 13.0], [6.0, -1.0, 2.0, 3.0, 0.0, 8.0, -7.0], [-4.0, 2.0, 0.0, 5.0, -5.0, 3.0, -9.0], [0.0, 7.0, -1.0, 5.0, 4.0, -2.0, 2.0]]\n"
          ]
        }
      ]
    },
    {
      "cell_type": "code",
      "execution_count": 2,
      "metadata": {
        "colab": {
          "base_uri": "https://localhost:8080/"
        },
        "id": "qDCGc6HwD8CW",
        "outputId": "3f528c33-6ba5-4b1f-f7e3-4c9faf3dde4f"
      },
      "outputs": [
        {
          "output_type": "stream",
          "name": "stdout",
          "text": [
            "[[ 1.00000000e+00 -1.00000000e+00  4.00000000e+00  0.00000000e+00\n",
            "   2.00000000e+00  9.00000000e+00]\n",
            " [ 0.00000000e+00  5.00000000e+00 -2.00000000e+00  7.00000000e+00\n",
            "   8.00000000e+00  4.00000000e+00]\n",
            " [ 0.00000000e+00  0.00000000e+00 -7.00000000e+00 -2.80000000e+01\n",
            "   3.00000000e+00  5.90000000e+01]\n",
            " [ 0.00000000e+00  0.00000000e+00  0.00000000e+00 -2.66000000e+01\n",
            "   1.00000000e+01  7.65000000e+01]\n",
            " [ 0.00000000e+00  0.00000000e+00  0.00000000e+00  3.55271368e-15\n",
            "   3.61886792e+00 -8.17547170e+00]\n",
            " [ 0.00000000e+00  0.00000000e+00  0.00000000e+00  0.00000000e+00\n",
            "   0.00000000e+00 -1.70870894e+01]]\n",
            "[19.          2.         32.         75.05        6.14811321 -2.59437528]\n",
            "The solution of the system is:\n",
            "[-1.76181704  0.89622803  4.0519314  -1.6171308   2.04191354  0.15183249]\n"
          ]
        }
      ],
      "source": [
        "from numpy import array, zeros, fabs, linalg\n",
        "a = array([[1,-1,4,0,2,9],\n",
        "           [0,5,-2,7,8,4],\n",
        "           [1,0,5,7,3,-2],\n",
        "           [6,-1,2,3,0,8],\n",
        "           [-4,2,0,5,-5,3],\n",
        "           [0,7,-1,5,4,-2]], float)\n",
        "#the b matrix constant terms of the equations \n",
        "b = array([19,2,13,-7,-9,2], float)\n",
        "n = len(b)\n",
        "x = zeros(n, float)\n",
        "\n",
        "#first loop specifys the fixed row\n",
        "for k in range(n-1):\n",
        "    if fabs(a[k,k]) < 1.0e-12:\n",
        "        for i in range(k+1, n):\n",
        "            if fabs(a[i,k]) > fabs(a[k,k]):\n",
        "                a[[k,i]] = a[[i,k]]\n",
        "                b[[k,i]] = b[[i,k]]\n",
        "                break\n",
        "\n",
        " #applies the elimination below the fixed row\n",
        "\n",
        "    for i in range(k+1,n):\n",
        "        if a[i,k] == 0:continue\n",
        "\n",
        "        factor = a[k,k]/a[i,k]\n",
        "        for j in range(k,n):\n",
        "            a[i,j] = a[k,j] - a[i,j]*factor\n",
        "            #we also calculate the b vector of each row\n",
        "        b[i] = b[k] - b[i]*factor\n",
        "print(a)\n",
        "print(b)\n",
        "\n",
        "\n",
        "x[n-1] = b[n-1] / a[n-1, n-1]\n",
        "for i in range(n-2, -1, -1):\n",
        "    sum_ax = 0\n",
        "  \n",
        "    for j in range(i+1, n):\n",
        "        sum_ax += a[i,j] * x[j]\n",
        "        \n",
        "    x[i] = (b[i] - sum_ax) / a[i,i]\n",
        "\n",
        "print(\"The solution of the system is:\")\n",
        "print(x)"
      ]
    },
    {
      "cell_type": "code",
      "source": [
        "from numpy import array, zeros, fabs, linalg\n",
        "a = array([[1,-1,4,0,2,9],\n",
        "           [0,5,-2,7,8,4],\n",
        "           [1,0,5,7,3,-2],\n",
        "           [6,-1,2,3,0,8],\n",
        "           [-4,2,0,5,-5,3],\n",
        "           [0,7,-1,5,4,-2]], float)\n",
        "#the b matrix constant terms of the equations \n",
        "b = array([19,2,13,-7,-9,2], float)\n",
        "n = len(b)\n",
        "x = zeros(n, float)\n",
        "\n",
        "#first loop specifys the fixed row\n",
        "for k in range(n-1):\n",
        "    if fabs(a[k,k]) < 1.0e-12:\n",
        "        for i in range(k+1, n):\n",
        "            if fabs(a[i,k]) > fabs(a[k,k]):\n",
        "                a[[k,i]] = a[[i,k]]\n",
        "\n",
        "                break\n",
        "\n",
        " #applies the elimination below the fixed row\n",
        "\n",
        "    for i in range(k+1,n):\n",
        "        if a[i,k] == 0:continue\n",
        "\n",
        "        factor = a[k,k]/a[i,k]\n",
        "        for j in range(k,n):\n",
        "            a[i,j] = a[k,j] - a[i,j]*factor\n",
        "            #we also calculate the b vector of each row\n",
        "        b[i] = b[k] - b[i]*factor\n",
        "print(a)\n",
        "\n",
        "\n",
        "\n",
        "x[n-1] = b[n-1] / a[n-1, n-1]\n",
        "for i in range(n-2, -1, -1):\n",
        "    sum_ax = 0\n",
        "  \n",
        "    for j in range(i+1, n):\n",
        "        sum_ax += a[i,j] * x[j]\n",
        "        \n",
        "    x[i] = (b[i] - sum_ax) / a[i,i]\n",
        "\n",
        "print(\"The solution of the system is:\")\n",
        "print(x)"
      ],
      "metadata": {
        "id": "mV1Tq3TSHRiV"
      },
      "execution_count": null,
      "outputs": []
    },
    {
      "cell_type": "code",
      "source": [
        "print(len(a))"
      ],
      "metadata": {
        "colab": {
          "base_uri": "https://localhost:8080/"
        },
        "id": "ZdXjetiZHg4U",
        "outputId": "cb1903a9-b1d2-44fe-accd-1bf2a4296f51"
      },
      "execution_count": 7,
      "outputs": [
        {
          "output_type": "stream",
          "name": "stdout",
          "text": [
            "6\n"
          ]
        }
      ]
    },
    {
      "cell_type": "code",
      "source": [
        "print(\"Solution by NumPy:\")\n",
        "\n",
        "\n",
        "print(linalg.solve(a, b))"
      ],
      "metadata": {
        "colab": {
          "base_uri": "https://localhost:8080/"
        },
        "id": "HxculynfG_OZ",
        "outputId": "08245169-c341-45be-bf69-c1965032c941"
      },
      "execution_count": 3,
      "outputs": [
        {
          "output_type": "stream",
          "name": "stdout",
          "text": [
            "Solution by NumPy:\n",
            "[-1.76181704  0.89622803  4.0519314  -1.6171308   2.04191354  0.15183249]\n"
          ]
        }
      ]
    }
  ]
}